{
 "cells": [
  {
   "cell_type": "code",
   "execution_count": 1,
   "metadata": {},
   "outputs": [
    {
     "data": {
      "text/plain": [
       "'This example demonstrates the use of Convolution1D for text classification.\\n\\nGets to 0.89 test accuracy after 2 epochs.\\n90s/epoch on Intel i5 2.4Ghz CPU.\\n10s/epoch on Tesla K40 GPU.\\n\\n'"
      ]
     },
     "execution_count": 1,
     "metadata": {},
     "output_type": "execute_result"
    }
   ],
   "source": [
    "'''This example demonstrates the use of Convolution1D for text classification.\n",
    "\n",
    "Gets to 0.89 test accuracy after 2 epochs.\n",
    "90s/epoch on Intel i5 2.4Ghz CPU.\n",
    "10s/epoch on Tesla K40 GPU.\n",
    "\n",
    "'''"
   ]
  },
  {
   "cell_type": "code",
   "execution_count": 2,
   "metadata": {},
   "outputs": [
    {
     "name": "stderr",
     "output_type": "stream",
     "text": [
      "Using TensorFlow backend.\n"
     ]
    }
   ],
   "source": [
    "from __future__ import print_function\n",
    "\n",
    "from keras.preprocessing import sequence\n",
    "from keras.models import Sequential\n",
    "from keras.layers import Dense, Dropout, Activation\n",
    "from keras.layers import Embedding\n",
    "from keras.layers import Conv1D, GlobalMaxPooling1D\n",
    "from keras.datasets import imdb"
   ]
  },
  {
   "cell_type": "code",
   "execution_count": 3,
   "metadata": {},
   "outputs": [],
   "source": [
    "# set parameters:\n",
    "max_features = 5000\n",
    "maxlen = 400\n",
    "batch_size = 32\n",
    "embedding_dims = 50\n",
    "filters = 250\n",
    "kernel_size = 3\n",
    "hidden_dims = 250\n",
    "epochs = 2"
   ]
  },
  {
   "cell_type": "code",
   "execution_count": 4,
   "metadata": {},
   "outputs": [
    {
     "name": "stdout",
     "output_type": "stream",
     "text": [
      "Loading data...\n",
      "25000 train sequences\n",
      "25000 test sequences\n"
     ]
    }
   ],
   "source": [
    "print('Loading data...')\n",
    "(x_train, y_train), (x_test, y_test) = imdb.load_data(num_words=max_features)\n",
    "print(len(x_train), 'train sequences')\n",
    "print(len(x_test), 'test sequences')"
   ]
  },
  {
   "cell_type": "code",
   "execution_count": 5,
   "metadata": {},
   "outputs": [
    {
     "data": {
      "text/plain": [
       "array([ list([1, 382, 24, 61, 512, 21, 114, 16, 527, 17, 16, 116, 34, 2406, 1602, 5, 4220, 2, 1148, 2102, 82, 468, 3148, 11, 217, 7, 112, 2, 133, 137, 23, 2, 138, 122, 14, 359, 8, 30, 1926, 14, 2, 114, 2, 82, 2, 2, 62, 28, 77, 128, 69, 59, 69, 53, 1161, 18, 6, 649, 62, 127, 20, 353, 8, 135, 24, 76]),\n",
       "       list([1, 1976, 5, 2, 16, 1960, 691, 12, 16, 6, 1677, 125, 250, 310, 7, 995, 5, 2, 21, 329, 163, 5, 36, 343, 99, 76, 978, 2, 5, 228, 96, 99, 76, 978, 2, 5, 228, 48, 25, 942, 72, 12, 517, 46, 4233, 357, 5, 484, 4485, 12, 152, 1261, 56, 1062, 1764, 515, 5, 13, 16, 547, 53, 3571, 17, 14, 1835, 2937, 23, 279, 4, 64, 155, 15, 1894, 72, 39, 743, 14, 20, 6, 300, 16, 4, 236, 1088, 234, 13, 258, 12, 643, 441, 5, 221, 17, 12, 2, 4, 130, 21, 15, 16, 4, 64, 173, 82, 13, 426, 339, 21, 40, 4923, 2548, 5, 2, 2, 105, 6, 117, 60, 151, 14, 20, 161, 79, 101, 919, 39, 72, 12, 828, 61, 692, 13, 586, 135, 8, 340, 798, 14, 20, 21, 50, 26, 3086, 7, 128, 108, 18, 25, 8, 1142, 129, 58, 5, 278, 23, 74, 1976, 5, 2]),\n",
       "       list([1, 48, 14, 9, 129, 86, 58, 2, 4, 3575, 7, 438, 48, 874, 115, 110, 6, 728, 431, 159, 490, 104, 14, 20, 9, 6, 506, 7, 4, 2, 21, 48, 874, 110, 6, 20, 6, 248, 123, 60, 2, 4, 4457, 95, 25, 528, 30, 55, 1555, 34, 14, 22, 2304, 2, 4, 4457, 16, 60, 53, 821, 74, 4, 2, 11, 14, 509, 10, 10, 150, 13, 40, 503, 102, 13, 43, 296, 4, 1463, 2, 969, 208, 159, 13, 296, 14, 2, 5, 13, 423, 15, 20, 76, 128, 12, 495, 17, 6, 503, 20, 12, 47, 2, 807, 2, 116, 2, 302, 5, 35, 1202, 8, 2, 147, 2, 969, 17, 4, 969, 2, 342, 43, 152, 3157, 76, 7, 6, 503, 20, 2845, 12, 47, 49, 599, 5, 15, 2, 232, 266, 491, 8, 112, 163, 6, 171, 211, 21, 14, 20, 9, 2, 220, 2, 45, 4, 117, 2, 15, 426, 7, 4457, 102, 146, 24, 660, 25, 1616, 106, 4, 20, 10, 10, 49, 84, 70, 106, 2, 2, 23, 6, 2, 5, 235, 2176, 48, 335, 31, 7, 148, 84, 95, 202, 14, 20, 6, 324]),\n",
       "       ...,\n",
       "       list([1, 4, 20, 9, 53, 44, 2, 74, 3180, 2, 45, 82, 44, 2, 3476, 4, 631, 3180, 2, 2, 5, 4, 2397, 4778, 2, 321, 65, 10, 10, 14, 9, 35, 321, 20, 53, 40, 6, 274, 15, 2, 221, 1204, 44, 2667, 2043, 5, 1234, 4, 1317, 136, 9, 3180, 2, 2, 27, 2, 8, 2, 5, 41, 2097, 10, 10, 6, 171, 2, 23, 4, 4426, 2896, 854, 15, 4, 4426, 2896, 26, 2, 2, 2, 33, 457, 5, 693, 45, 24, 18, 316, 21, 47, 6, 565, 1045, 14, 20, 9, 2184, 5, 3522, 21, 80, 30, 1925, 18, 153, 8, 216, 82, 171, 372, 28, 296, 4, 20, 21, 36, 967, 12, 53, 545, 74, 349, 47, 12, 77, 2, 2887, 10, 10]),\n",
       "       list([1, 14, 1327, 368, 425, 9, 2, 1522, 429, 58, 198, 6, 1522, 57, 31, 70, 126, 1176, 21, 25, 70, 434, 605, 129, 2328, 2, 34, 24, 3121, 101, 7, 129, 3669, 2, 23, 14, 2, 14, 20, 16, 4116, 5, 4742, 11, 6, 96, 15, 93, 2, 168, 1202, 12, 2, 61, 2, 99, 230, 12, 16, 3931, 379, 11, 94, 769, 5, 1015, 8, 30, 2, 18, 12, 10, 10, 45, 24, 179, 17, 373, 17, 2, 42, 328, 21, 14, 20, 47, 164, 8, 386, 12, 379, 1149, 19, 6, 3931, 2, 239, 34, 2, 4, 1375, 114, 9, 160, 1606, 463, 7, 4, 2, 4742, 2463, 15, 2, 38, 111, 223, 2, 108, 48, 61, 336, 37, 2841, 72, 5, 37, 13, 119, 2, 1899, 72, 40, 194, 503, 122, 4406, 474, 1258, 90, 546, 8, 135, 164, 7, 4, 2, 7, 2, 4696]),\n",
       "       list([1, 4, 598, 1592, 186, 8, 30, 4, 2, 5, 2, 7, 49, 7, 4, 678, 1341, 11, 14, 704, 1206, 590, 75, 67, 1519, 32, 120, 33, 4, 3436, 956, 18, 4, 22, 2, 4, 578, 7, 1475, 1964, 590, 1750, 9, 984, 21, 51, 4, 22, 1608, 8, 94, 1107, 9, 94, 85, 1519, 915, 1964, 590, 668, 428, 1964, 590, 328, 5, 4, 2267, 1964, 590, 926, 21, 91, 674, 7, 32, 5, 11, 1504, 4496, 8, 32, 7, 4, 85, 1519, 9, 4, 2267, 1964, 590, 309, 10, 10, 13, 16, 2664, 33, 89, 2, 6, 213, 7, 650, 4, 167, 520, 8, 800, 4, 1522, 4249, 23, 2, 91, 108, 3475, 123, 4, 2, 7, 31, 499, 137, 800, 4, 2073, 7, 4, 85, 14, 22, 1177, 4, 2, 5, 2073, 7, 199, 3012, 12, 122, 24, 589, 8, 123, 89, 345, 16, 208, 261, 13, 62, 135, 4, 2391, 1828, 71, 617, 6, 76, 2, 5, 2, 179, 578, 949, 4, 130, 4, 22, 82, 2, 383, 5, 1520, 12, 9, 3614, 14, 2, 15, 11, 49, 771, 961, 4, 107, 2, 295, 18, 6, 58, 4243, 2, 127, 35, 120, 4, 350, 239, 17, 4, 2, 2, 2, 29, 2, 4, 326, 7, 1522, 2, 5, 305, 287, 4, 2, 7, 4, 2874, 5, 180, 2, 19, 4, 2, 5, 1123, 85, 381, 15, 97, 14, 22, 26, 2, 2, 1903, 3271, 5, 2100, 2, 488, 2, 408, 35, 321, 1146, 7, 6, 1471, 1940, 19, 2, 2563, 37, 9, 267, 18, 2, 2, 2, 97, 41, 22, 2016, 5, 1534, 2, 70, 511, 10, 10, 1931, 2799, 214, 94, 403, 11, 800, 1170, 17, 53, 74, 170, 8, 707, 5, 397, 6, 418, 7, 2300, 11, 192, 13, 62, 135, 4, 22, 9, 220, 6, 2006, 11, 800, 1537, 2, 19, 257, 85, 247, 74, 49, 2245, 274, 17, 4, 147, 4421, 33, 6, 3436, 12, 9, 6, 113, 2799, 1773, 24, 6, 2, 31, 13, 104, 490, 169, 1931, 2799, 9, 2, 8, 4, 674, 1341, 33, 111, 2, 5, 60, 113, 11, 831, 709, 158])], dtype=object)"
      ]
     },
     "execution_count": 5,
     "metadata": {},
     "output_type": "execute_result"
    }
   ],
   "source": [
    "x_train"
   ]
  },
  {
   "cell_type": "code",
   "execution_count": 6,
   "metadata": {},
   "outputs": [
    {
     "data": {
      "text/plain": [
       "array([0, 0, 0, ..., 1, 0, 1])"
      ]
     },
     "execution_count": 6,
     "metadata": {},
     "output_type": "execute_result"
    }
   ],
   "source": [
    "y_train"
   ]
  },
  {
   "cell_type": "code",
   "execution_count": 7,
   "metadata": {},
   "outputs": [
    {
     "name": "stdout",
     "output_type": "stream",
     "text": [
      "Pad sequences (samples x time)\n",
      "x_train shape: (25000, 400)\n",
      "x_test shape: (25000, 400)\n"
     ]
    }
   ],
   "source": [
    "print('Pad sequences (samples x time)')\n",
    "x_train = sequence.pad_sequences(x_train, maxlen=maxlen)\n",
    "x_test = sequence.pad_sequences(x_test, maxlen=maxlen)\n",
    "print('x_train shape:', x_train.shape)\n",
    "print('x_test shape:', x_test.shape)"
   ]
  },
  {
   "cell_type": "code",
   "execution_count": 8,
   "metadata": {},
   "outputs": [
    {
     "name": "stdout",
     "output_type": "stream",
     "text": [
      "Build model...\n"
     ]
    }
   ],
   "source": [
    "print('Build model...')\n",
    "model = Sequential()\n",
    "\n",
    "# we start off with an efficient embedding layer which maps\n",
    "# our vocab indices into embedding_dims dimensions\n",
    "model.add(Embedding(max_features,\n",
    "                    embedding_dims,\n",
    "                    input_length=maxlen))\n",
    "model.add(Dropout(0.2))\n",
    "\n",
    "# we add a Convolution1D, which will learn filters\n",
    "# word group filters of size filter_length:\n",
    "model.add(Conv1D(filters,\n",
    "                 kernel_size,\n",
    "                 padding='valid',\n",
    "                 activation='relu',\n",
    "                 strides=1))\n",
    "# we use max pooling:\n",
    "model.add(GlobalMaxPooling1D())\n",
    "\n",
    "# We add a vanilla hidden layer:\n",
    "model.add(Dense(hidden_dims))\n",
    "model.add(Dropout(0.2))\n",
    "model.add(Activation('relu'))\n",
    "\n",
    "# We project onto a single unit output layer, and squash it with a sigmoid:\n",
    "model.add(Dense(1))\n",
    "model.add(Activation('sigmoid'))"
   ]
  },
  {
   "cell_type": "code",
   "execution_count": 9,
   "metadata": {},
   "outputs": [
    {
     "name": "stdout",
     "output_type": "stream",
     "text": [
      "_________________________________________________________________\n",
      "Layer (type)                 Output Shape              Param #   \n",
      "=================================================================\n",
      "embedding_1 (Embedding)      (None, 400, 50)           250000    \n",
      "_________________________________________________________________\n",
      "dropout_1 (Dropout)          (None, 400, 50)           0         \n",
      "_________________________________________________________________\n",
      "conv1d_1 (Conv1D)            (None, 398, 250)          37750     \n",
      "_________________________________________________________________\n",
      "global_max_pooling1d_1 (Glob (None, 250)               0         \n",
      "_________________________________________________________________\n",
      "dense_1 (Dense)              (None, 250)               62750     \n",
      "_________________________________________________________________\n",
      "dropout_2 (Dropout)          (None, 250)               0         \n",
      "_________________________________________________________________\n",
      "activation_1 (Activation)    (None, 250)               0         \n",
      "_________________________________________________________________\n",
      "dense_2 (Dense)              (None, 1)                 251       \n",
      "_________________________________________________________________\n",
      "activation_2 (Activation)    (None, 1)                 0         \n",
      "=================================================================\n",
      "Total params: 350,751\n",
      "Trainable params: 350,751\n",
      "Non-trainable params: 0\n",
      "_________________________________________________________________\n"
     ]
    }
   ],
   "source": [
    "model.compile(loss='binary_crossentropy',\n",
    "              optimizer='adam',\n",
    "              metrics=['accuracy'])\n",
    "\n",
    "model.summary()"
   ]
  },
  {
   "cell_type": "code",
   "execution_count": 10,
   "metadata": {},
   "outputs": [
    {
     "name": "stdout",
     "output_type": "stream",
     "text": [
      "Train on 25000 samples, validate on 25000 samples\n",
      "Epoch 1/2\n",
      "25000/25000 [==============================] - 260s 10ms/step - loss: 0.4159 - acc: 0.7885 - val_loss: 0.2904 - val_acc: 0.8746\n",
      "Epoch 2/2\n",
      "25000/25000 [==============================] - 263s 11ms/step - loss: 0.2313 - acc: 0.9066 - val_loss: 0.2595 - val_acc: 0.8918\n"
     ]
    },
    {
     "data": {
      "text/plain": [
       "<keras.callbacks.History at 0x109b61e10>"
      ]
     },
     "execution_count": 10,
     "metadata": {},
     "output_type": "execute_result"
    }
   ],
   "source": [
    "model.fit(x_train, y_train,\n",
    "          batch_size=batch_size,\n",
    "          epochs=epochs,\n",
    "          validation_data=(x_test, y_test))"
   ]
  },
  {
   "cell_type": "code",
   "execution_count": 11,
   "metadata": {},
   "outputs": [
    {
     "name": "stdout",
     "output_type": "stream",
     "text": [
      "25000/25000 [==============================] - 27s 1ms/step\n",
      "Test score: 0.259518016238\n",
      "Test accuracy: 0.8918\n"
     ]
    }
   ],
   "source": [
    "score, acc = model.evaluate(x_test, y_test,\n",
    "                            batch_size=batch_size)\n",
    "print('Test score:', score)\n",
    "print('Test accuracy:', acc)"
   ]
  },
  {
   "cell_type": "code",
   "execution_count": null,
   "metadata": {},
   "outputs": [],
   "source": []
  }
 ],
 "metadata": {
  "kernelspec": {
   "display_name": "Python 2",
   "language": "python",
   "name": "python2"
  },
  "language_info": {
   "codemirror_mode": {
    "name": "ipython",
    "version": 2
   },
   "file_extension": ".py",
   "mimetype": "text/x-python",
   "name": "python",
   "nbconvert_exporter": "python",
   "pygments_lexer": "ipython2",
   "version": "2.7.14"
  }
 },
 "nbformat": 4,
 "nbformat_minor": 2
}
